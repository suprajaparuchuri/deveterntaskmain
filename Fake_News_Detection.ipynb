{
  "cells": [
    {
      "cell_type": "markdown",
      "metadata": {
        "id": "view-in-github",
        "colab_type": "text"
      },
      "source": [
        "<a href=\"https://colab.research.google.com/github/suprajaparuchuri/deveterntaskmain/blob/main/Fake_News_Detection.ipynb\" target=\"_parent\"><img src=\"https://colab.research.google.com/assets/colab-badge.svg\" alt=\"Open In Colab\"/></a>"
      ]
    },
    {
      "cell_type": "markdown",
      "metadata": {
        "id": "pVpLp5IRIQC7"
      },
      "source": [
        "\n",
        "**Data Science Task 1**\n",
        "\n",
        "**Task**: Detecting Fake News\n",
        "\n",
        "**Objective**: Differentiate between real and fake news using a Python project applying a PassiveAggressiveClassifier.\n",
        "\n",
        "**Tasks**:\n",
        "1. Read and explore the textual dataset.\n",
        "2. Build a machine learning model with TfidfVectorizer and PassiveAggressiveClassifier.\n",
        "3. Create a confusion matrix to evaluate the model's performance.\n",
        "4. Measure the model's accuracy.\n",
        "\n",
        "**Steps**:\n",
        "1.  Import necessary libraries\n",
        "2.  Read and explore the dataset\n",
        "3.   Build a model using PassiveAggressiveClassifier\n",
        "4.   Evaluate the model's accuracy\n",
        "\n",
        "\n",
        "\n",
        "\n",
        "\n",
        "\n",
        "\n"
      ]
    },
    {
      "cell_type": "markdown",
      "source": [],
      "metadata": {
        "id": "F1L5mwBVGaEs"
      }
    },
    {
      "cell_type": "markdown",
      "metadata": {
        "id": "aTDd1EiyKVFl"
      },
      "source": [
        "**Import necessary libraries**"
      ]
    },
    {
      "cell_type": "code",
      "source": [],
      "metadata": {
        "id": "tBdfW8j1GHIi"
      },
      "execution_count": null,
      "outputs": []
    },
    {
      "cell_type": "markdown",
      "source": [],
      "metadata": {
        "id": "Vw8WcFeQGGlK"
      }
    },
    {
      "cell_type": "code",
      "execution_count": null,
      "metadata": {
        "id": "4qXhDbdAJnVp"
      },
      "outputs": [],
      "source": [
        "import pandas as pd\n",
        "import numpy as np\n",
        "from sklearn.feature_extraction.text import TfidfVectorizer\n",
        "from sklearn.model_selection import train_test_split\n",
        "from sklearn.linear_model import PassiveAggressiveClassifier\n",
        "from sklearn.metrics import accuracy_score, confusion_matrix, classification_report\n",
        "import itertools\n",
        "import seaborn as sns\n",
        "import matplotlib.pyplot as plt"
      ]
    },
    {
      "cell_type": "markdown",
      "metadata": {
        "id": "HVg8-jipKf9o"
      },
      "source": [
        "**Read and explore the dataset**"
      ]
    },
    {
      "cell_type": "code",
      "execution_count": null,
      "metadata": {
        "colab": {
          "base_uri": "https://localhost:8080/",
          "height": 536
        },
        "id": "beRRvLEkKk9p",
        "outputId": "d7c9868a-563c-499d-ca96-1303481c75ec"
      },
      "outputs": [
        {
          "output_type": "execute_result",
          "data": {
            "text/plain": [
              "   Unnamed: 0                                              title  \\\n",
              "0        8476                       You Can Smell Hillary’s Fear   \n",
              "1       10294  Watch The Exact Moment Paul Ryan Committed Pol...   \n",
              "2        3608        Kerry to go to Paris in gesture of sympathy   \n",
              "3       10142  Bernie supporters on Twitter erupt in anger ag...   \n",
              "4         875   The Battle of New York: Why This Primary Matters   \n",
              "5        6903                                        Tehran, USA   \n",
              "6        7341  Girl Horrified At What She Watches Boyfriend D...   \n",
              "7          95                  ‘Britain’s Schindler’ Dies at 106   \n",
              "8        4869  Fact check: Trump and Clinton at the 'commande...   \n",
              "9        2909  Iran reportedly makes new push for uranium con...   \n",
              "\n",
              "                                                text label  \n",
              "0  Daniel Greenfield, a Shillman Journalism Fello...  FAKE  \n",
              "1  Google Pinterest Digg Linkedin Reddit Stumbleu...  FAKE  \n",
              "2  U.S. Secretary of State John F. Kerry said Mon...  REAL  \n",
              "3  — Kaydee King (@KaydeeKing) November 9, 2016 T...  FAKE  \n",
              "4  It's primary day in New York and front-runners...  REAL  \n",
              "5    \\nI’m not an immigrant, but my grandparents ...  FAKE  \n",
              "6  Share This Baylee Luciani (left), Screenshot o...  FAKE  \n",
              "7  A Czech stockbroker who saved more than 650 Je...  REAL  \n",
              "8  Hillary Clinton and Donald Trump made some ina...  REAL  \n",
              "9  Iranian negotiators reportedly have made a las...  REAL  "
            ],
            "text/html": [
              "\n",
              "  <div id=\"df-bab75589-ed0a-4cce-b47b-d7549035eb12\" class=\"colab-df-container\">\n",
              "    <div>\n",
              "<style scoped>\n",
              "    .dataframe tbody tr th:only-of-type {\n",
              "        vertical-align: middle;\n",
              "    }\n",
              "\n",
              "    .dataframe tbody tr th {\n",
              "        vertical-align: top;\n",
              "    }\n",
              "\n",
              "    .dataframe thead th {\n",
              "        text-align: right;\n",
              "    }\n",
              "</style>\n",
              "<table border=\"1\" class=\"dataframe\">\n",
              "  <thead>\n",
              "    <tr style=\"text-align: right;\">\n",
              "      <th></th>\n",
              "      <th>Unnamed: 0</th>\n",
              "      <th>title</th>\n",
              "      <th>text</th>\n",
              "      <th>label</th>\n",
              "    </tr>\n",
              "  </thead>\n",
              "  <tbody>\n",
              "    <tr>\n",
              "      <th>0</th>\n",
              "      <td>8476</td>\n",
              "      <td>You Can Smell Hillary’s Fear</td>\n",
              "      <td>Daniel Greenfield, a Shillman Journalism Fello...</td>\n",
              "      <td>FAKE</td>\n",
              "    </tr>\n",
              "    <tr>\n",
              "      <th>1</th>\n",
              "      <td>10294</td>\n",
              "      <td>Watch The Exact Moment Paul Ryan Committed Pol...</td>\n",
              "      <td>Google Pinterest Digg Linkedin Reddit Stumbleu...</td>\n",
              "      <td>FAKE</td>\n",
              "    </tr>\n",
              "    <tr>\n",
              "      <th>2</th>\n",
              "      <td>3608</td>\n",
              "      <td>Kerry to go to Paris in gesture of sympathy</td>\n",
              "      <td>U.S. Secretary of State John F. Kerry said Mon...</td>\n",
              "      <td>REAL</td>\n",
              "    </tr>\n",
              "    <tr>\n",
              "      <th>3</th>\n",
              "      <td>10142</td>\n",
              "      <td>Bernie supporters on Twitter erupt in anger ag...</td>\n",
              "      <td>— Kaydee King (@KaydeeKing) November 9, 2016 T...</td>\n",
              "      <td>FAKE</td>\n",
              "    </tr>\n",
              "    <tr>\n",
              "      <th>4</th>\n",
              "      <td>875</td>\n",
              "      <td>The Battle of New York: Why This Primary Matters</td>\n",
              "      <td>It's primary day in New York and front-runners...</td>\n",
              "      <td>REAL</td>\n",
              "    </tr>\n",
              "    <tr>\n",
              "      <th>5</th>\n",
              "      <td>6903</td>\n",
              "      <td>Tehran, USA</td>\n",
              "      <td>\\nI’m not an immigrant, but my grandparents ...</td>\n",
              "      <td>FAKE</td>\n",
              "    </tr>\n",
              "    <tr>\n",
              "      <th>6</th>\n",
              "      <td>7341</td>\n",
              "      <td>Girl Horrified At What She Watches Boyfriend D...</td>\n",
              "      <td>Share This Baylee Luciani (left), Screenshot o...</td>\n",
              "      <td>FAKE</td>\n",
              "    </tr>\n",
              "    <tr>\n",
              "      <th>7</th>\n",
              "      <td>95</td>\n",
              "      <td>‘Britain’s Schindler’ Dies at 106</td>\n",
              "      <td>A Czech stockbroker who saved more than 650 Je...</td>\n",
              "      <td>REAL</td>\n",
              "    </tr>\n",
              "    <tr>\n",
              "      <th>8</th>\n",
              "      <td>4869</td>\n",
              "      <td>Fact check: Trump and Clinton at the 'commande...</td>\n",
              "      <td>Hillary Clinton and Donald Trump made some ina...</td>\n",
              "      <td>REAL</td>\n",
              "    </tr>\n",
              "    <tr>\n",
              "      <th>9</th>\n",
              "      <td>2909</td>\n",
              "      <td>Iran reportedly makes new push for uranium con...</td>\n",
              "      <td>Iranian negotiators reportedly have made a las...</td>\n",
              "      <td>REAL</td>\n",
              "    </tr>\n",
              "  </tbody>\n",
              "</table>\n",
              "</div>\n",
              "    <div class=\"colab-df-buttons\">\n",
              "\n",
              "  <div class=\"colab-df-container\">\n",
              "    <button class=\"colab-df-convert\" onclick=\"convertToInteractive('df-bab75589-ed0a-4cce-b47b-d7549035eb12')\"\n",
              "            title=\"Convert this dataframe to an interactive table.\"\n",
              "            style=\"display:none;\">\n",
              "\n",
              "  <svg xmlns=\"http://www.w3.org/2000/svg\" height=\"24px\" viewBox=\"0 -960 960 960\">\n",
              "    <path d=\"M120-120v-720h720v720H120Zm60-500h600v-160H180v160Zm220 220h160v-160H400v160Zm0 220h160v-160H400v160ZM180-400h160v-160H180v160Zm440 0h160v-160H620v160ZM180-180h160v-160H180v160Zm440 0h160v-160H620v160Z\"/>\n",
              "  </svg>\n",
              "    </button>\n",
              "\n",
              "  <style>\n",
              "    .colab-df-container {\n",
              "      display:flex;\n",
              "      gap: 12px;\n",
              "    }\n",
              "\n",
              "    .colab-df-convert {\n",
              "      background-color: #E8F0FE;\n",
              "      border: none;\n",
              "      border-radius: 50%;\n",
              "      cursor: pointer;\n",
              "      display: none;\n",
              "      fill: #1967D2;\n",
              "      height: 32px;\n",
              "      padding: 0 0 0 0;\n",
              "      width: 32px;\n",
              "    }\n",
              "\n",
              "    .colab-df-convert:hover {\n",
              "      background-color: #E2EBFA;\n",
              "      box-shadow: 0px 1px 2px rgba(60, 64, 67, 0.3), 0px 1px 3px 1px rgba(60, 64, 67, 0.15);\n",
              "      fill: #174EA6;\n",
              "    }\n",
              "\n",
              "    .colab-df-buttons div {\n",
              "      margin-bottom: 4px;\n",
              "    }\n",
              "\n",
              "    [theme=dark] .colab-df-convert {\n",
              "      background-color: #3B4455;\n",
              "      fill: #D2E3FC;\n",
              "    }\n",
              "\n",
              "    [theme=dark] .colab-df-convert:hover {\n",
              "      background-color: #434B5C;\n",
              "      box-shadow: 0px 1px 3px 1px rgba(0, 0, 0, 0.15);\n",
              "      filter: drop-shadow(0px 1px 2px rgba(0, 0, 0, 0.3));\n",
              "      fill: #FFFFFF;\n",
              "    }\n",
              "  </style>\n",
              "\n",
              "    <script>\n",
              "      const buttonEl =\n",
              "        document.querySelector('#df-bab75589-ed0a-4cce-b47b-d7549035eb12 button.colab-df-convert');\n",
              "      buttonEl.style.display =\n",
              "        google.colab.kernel.accessAllowed ? 'block' : 'none';\n",
              "\n",
              "      async function convertToInteractive(key) {\n",
              "        const element = document.querySelector('#df-bab75589-ed0a-4cce-b47b-d7549035eb12');\n",
              "        const dataTable =\n",
              "          await google.colab.kernel.invokeFunction('convertToInteractive',\n",
              "                                                    [key], {});\n",
              "        if (!dataTable) return;\n",
              "\n",
              "        const docLinkHtml = 'Like what you see? Visit the ' +\n",
              "          '<a target=\"_blank\" href=https://colab.research.google.com/notebooks/data_table.ipynb>data table notebook</a>'\n",
              "          + ' to learn more about interactive tables.';\n",
              "        element.innerHTML = '';\n",
              "        dataTable['output_type'] = 'display_data';\n",
              "        await google.colab.output.renderOutput(dataTable, element);\n",
              "        const docLink = document.createElement('div');\n",
              "        docLink.innerHTML = docLinkHtml;\n",
              "        element.appendChild(docLink);\n",
              "      }\n",
              "    </script>\n",
              "  </div>\n",
              "\n",
              "\n",
              "<div id=\"df-aac5772b-f517-4d46-8c52-ccc638cb66b6\">\n",
              "  <button class=\"colab-df-quickchart\" onclick=\"quickchart('df-aac5772b-f517-4d46-8c52-ccc638cb66b6')\"\n",
              "            title=\"Suggest charts\"\n",
              "            style=\"display:none;\">\n",
              "\n",
              "<svg xmlns=\"http://www.w3.org/2000/svg\" height=\"24px\"viewBox=\"0 0 24 24\"\n",
              "     width=\"24px\">\n",
              "    <g>\n",
              "        <path d=\"M19 3H5c-1.1 0-2 .9-2 2v14c0 1.1.9 2 2 2h14c1.1 0 2-.9 2-2V5c0-1.1-.9-2-2-2zM9 17H7v-7h2v7zm4 0h-2V7h2v10zm4 0h-2v-4h2v4z\"/>\n",
              "    </g>\n",
              "</svg>\n",
              "  </button>\n",
              "\n",
              "<style>\n",
              "  .colab-df-quickchart {\n",
              "      --bg-color: #E8F0FE;\n",
              "      --fill-color: #1967D2;\n",
              "      --hover-bg-color: #E2EBFA;\n",
              "      --hover-fill-color: #174EA6;\n",
              "      --disabled-fill-color: #AAA;\n",
              "      --disabled-bg-color: #DDD;\n",
              "  }\n",
              "\n",
              "  [theme=dark] .colab-df-quickchart {\n",
              "      --bg-color: #3B4455;\n",
              "      --fill-color: #D2E3FC;\n",
              "      --hover-bg-color: #434B5C;\n",
              "      --hover-fill-color: #FFFFFF;\n",
              "      --disabled-bg-color: #3B4455;\n",
              "      --disabled-fill-color: #666;\n",
              "  }\n",
              "\n",
              "  .colab-df-quickchart {\n",
              "    background-color: var(--bg-color);\n",
              "    border: none;\n",
              "    border-radius: 50%;\n",
              "    cursor: pointer;\n",
              "    display: none;\n",
              "    fill: var(--fill-color);\n",
              "    height: 32px;\n",
              "    padding: 0;\n",
              "    width: 32px;\n",
              "  }\n",
              "\n",
              "  .colab-df-quickchart:hover {\n",
              "    background-color: var(--hover-bg-color);\n",
              "    box-shadow: 0 1px 2px rgba(60, 64, 67, 0.3), 0 1px 3px 1px rgba(60, 64, 67, 0.15);\n",
              "    fill: var(--button-hover-fill-color);\n",
              "  }\n",
              "\n",
              "  .colab-df-quickchart-complete:disabled,\n",
              "  .colab-df-quickchart-complete:disabled:hover {\n",
              "    background-color: var(--disabled-bg-color);\n",
              "    fill: var(--disabled-fill-color);\n",
              "    box-shadow: none;\n",
              "  }\n",
              "\n",
              "  .colab-df-spinner {\n",
              "    border: 2px solid var(--fill-color);\n",
              "    border-color: transparent;\n",
              "    border-bottom-color: var(--fill-color);\n",
              "    animation:\n",
              "      spin 1s steps(1) infinite;\n",
              "  }\n",
              "\n",
              "  @keyframes spin {\n",
              "    0% {\n",
              "      border-color: transparent;\n",
              "      border-bottom-color: var(--fill-color);\n",
              "      border-left-color: var(--fill-color);\n",
              "    }\n",
              "    20% {\n",
              "      border-color: transparent;\n",
              "      border-left-color: var(--fill-color);\n",
              "      border-top-color: var(--fill-color);\n",
              "    }\n",
              "    30% {\n",
              "      border-color: transparent;\n",
              "      border-left-color: var(--fill-color);\n",
              "      border-top-color: var(--fill-color);\n",
              "      border-right-color: var(--fill-color);\n",
              "    }\n",
              "    40% {\n",
              "      border-color: transparent;\n",
              "      border-right-color: var(--fill-color);\n",
              "      border-top-color: var(--fill-color);\n",
              "    }\n",
              "    60% {\n",
              "      border-color: transparent;\n",
              "      border-right-color: var(--fill-color);\n",
              "    }\n",
              "    80% {\n",
              "      border-color: transparent;\n",
              "      border-right-color: var(--fill-color);\n",
              "      border-bottom-color: var(--fill-color);\n",
              "    }\n",
              "    90% {\n",
              "      border-color: transparent;\n",
              "      border-bottom-color: var(--fill-color);\n",
              "    }\n",
              "  }\n",
              "</style>\n",
              "\n",
              "  <script>\n",
              "    async function quickchart(key) {\n",
              "      const quickchartButtonEl =\n",
              "        document.querySelector('#' + key + ' button');\n",
              "      quickchartButtonEl.disabled = true;  // To prevent multiple clicks.\n",
              "      quickchartButtonEl.classList.add('colab-df-spinner');\n",
              "      try {\n",
              "        const charts = await google.colab.kernel.invokeFunction(\n",
              "            'suggestCharts', [key], {});\n",
              "      } catch (error) {\n",
              "        console.error('Error during call to suggestCharts:', error);\n",
              "      }\n",
              "      quickchartButtonEl.classList.remove('colab-df-spinner');\n",
              "      quickchartButtonEl.classList.add('colab-df-quickchart-complete');\n",
              "    }\n",
              "    (() => {\n",
              "      let quickchartButtonEl =\n",
              "        document.querySelector('#df-aac5772b-f517-4d46-8c52-ccc638cb66b6 button');\n",
              "      quickchartButtonEl.style.display =\n",
              "        google.colab.kernel.accessAllowed ? 'block' : 'none';\n",
              "    })();\n",
              "  </script>\n",
              "</div>\n",
              "\n",
              "    </div>\n",
              "  </div>\n"
            ],
            "application/vnd.google.colaboratory.intrinsic+json": {
              "type": "dataframe",
              "variable_name": "news_data",
              "summary": "{\n  \"name\": \"news_data\",\n  \"rows\": 6335,\n  \"fields\": [\n    {\n      \"column\": \"Unnamed: 0\",\n      \"properties\": {\n        \"dtype\": \"number\",\n        \"std\": 3038,\n        \"min\": 2,\n        \"max\": 10557,\n        \"samples\": [\n          9957,\n          7596,\n          8905\n        ],\n        \"num_unique_values\": 6335,\n        \"semantic_type\": \"\",\n        \"description\": \"\"\n      }\n    },\n    {\n      \"column\": \"title\",\n      \"properties\": {\n        \"dtype\": \"string\",\n        \"samples\": [\n          \"Elizabeth Warren's speech attacking Donald Trump made a bigger argument about Republicans\",\n          \"Assange: Clinton And ISIS Are Funded By Same People, \\u201cTrump Not Permitted To Win\\u201d\",\n          \"Reporters Stunned to Learn Trump Fans Lining Up 12 Hours Before Rally Starts\"\n        ],\n        \"num_unique_values\": 6256,\n        \"semantic_type\": \"\",\n        \"description\": \"\"\n      }\n    },\n    {\n      \"column\": \"text\",\n      \"properties\": {\n        \"dtype\": \"string\",\n        \"samples\": [\n          \"Republicans taking control of Congress this coming week will try to overcome their reputation as a divided party hobbled by infighting by working to reshape policy in ways that Americans will feel in corporate boardrooms, on factory floors and at the gas pump.\\n\\nIncoming committee chairmen are preparing fresh oversight of federal agencies while rank-and-file members will be encouraged to use a new budget plan and government spending bills to chip away at President Obama\\u2019s environmental regulations, health-care reform and outreach to Cuba and Iran.\\n\\nAfter years of sparring with the White House, Republicans are eager to demonstrate productivity and some level of bipartisan \\u00adcooperation with Obama and the Democrats. Public disgust with Washington gridlock remains high, and with the 2016 presidential campaign beginning in earnest, broader voter interest \\u2014 especially among independents and Democrats \\u2014 could put recent GOP gains at risk in less than two years.\\n\\n\\u201cOn the things where we agree, the goal will be to make a law, not just put something on [Obama\\u2019s] desk,\\u201d incoming Senate Majority Leader Mitch McConnell (R-Ky.) said in an interview, adding later: \\u201cI want to make it clear: Desire for a signature is not going to dictate everything that we do.\\u201d\\n\\nSecuring final passage of bills will require McConnell and House Speaker John A. Boehner (R-Ohio) to compromise with Democrats while holding together their own ranks, which have clashed repeatedly over issues such as spending and immigration. Many GOP leaders hope that their differences can be set aside in favor of legislative wins.\\n\\nThe House and Senate formally reconvene Tuesday. New members will be sworn in and top leaders and committee chairmen formally installed on a day steeped in tradition and ceremony.\\n\\nBoehner and McConnell will be backed by larger GOP majorities: 246 Republicans in the House \\u2014 the party\\u2019s largest majority since just after World War II \\u2014 and 54 GOP senators, an impressive gain but short of the 60 votes required to overcome most procedural hurdles that Democrats will have at their disposal.\\n\\nIn the Senate, the rebranding effort will begin with energy policy.\\n\\nMcConnell plans to start his tenure as Senate majority leader with a \\u201cfull-throated\\u201d debate on national energy policy, ranging from a new oil pipeline to additional oil exploration. He has also promised consideration of liberal alternatives.\\n\\nMcConnell wants to use the controversial proposal to authorize construction of the Keystone XL pipeline as the gen\\u00adesis for a free-wheeling Senate debate about the United States\\u2019 energy future, in which both sides will have the opportunity to offer and debate more expansive energy issues than the narrow pipeline proposal.\\n\\n\\u201cWe can treat this like a serious and significant energy debate,\\u201d McConnell said in an interview before Christmas in his Capitol office.\\n\\nObama has resisted GOP efforts to authorize the pipeline, but dozens of moderate congressional Democrats support the bill and a broader energy debate.\\n\\nOther Democrats are skeptical of McConnell\\u2019s plans.\\n\\n\\u201cThe $64,000 question as to whether the Congress can get anything done is which way the Republican leadership goes,\\u201d Sen. Charles E. Schumer (D-N.Y.) said in an interview Saturday. \\u201cIf they let the tea party pull them to the right into the path of negativity and obstruction, we\\u2019ll get nothing done.\\u201d\\n\\nSen. John Hoeven (R-N.D.), a lead author of the Keystone bill, said that Republicans plan to consider proposals allowing the export of liquefied natural gas; to give state governments greater power to oversee hydraulic fracturing; and to restrict the federal government\\u2019s role in the construction of cross-border gas pipelines.\\n\\n\\u201cI don\\u2019t think we have an energy bill that doesn\\u2019t have a Democratic co-sponsor on it,\\u201d he said. \\u201cBecause at the end of the day you\\u2019ve got to get at least 60 votes\\u201d to clear procedural hurdles.\\n\\nThe open process is part of McConnell\\u2019s effort to live up to his pledge to restore the Senate\\u2019s grand tradition of free and full debate, while also advancing conservative causes. A skilled practitioner in the use of the Senate\\u2019s arcane procedural rules to move or block legislation, McConnell has pledged to use those rules to score conservative wins. He has been coaching GOP senators that their most likely path to wins will come on the annual spending bills for the federal government \\u2014 which Republicans have routinely opposed on the grounds that they spend too much taxpayer money.\\n\\nOther party leaders echo those sentiments. \\u201cI think a majority [of Republicans] recognize that we have to govern responsibly,\\u201d said Sen. John McCain (R-Ariz.), who will become chairman of the Armed Services Committee. \\u201cWe have to show that we can be a productive party, and that, I think, will have a direct effect on whether we\\u2019re able to elect a Republican as president in 2016.\\u201d\\n\\nBut now, with control of the House and Senate, Republicans have more leeway to attach policy riders to spending bills that will restrict federal agencies in their oversight of environmental, labor and other regulations. These still may draw presidential vetoes, but McConnell believes that Republicans will have leverage to get some restrictions included, just as the mammoth spending measure approved last month included language sought by Wall Street firms making risky trades.\\n\\nIn the House, most of the early weeks will seem like a do-over of the past two years \\u2014 except that many of the bills passed will get swifter Senate consideration.\\n\\nUp first is a veterans employment bill that passed last year with bipartisan support, according to senior leadership aides. There is also a bill to loosen work requirements set by the Affordable Care Act and a similar bill to authorize the Keystone pipeline.\\n\\nThe second week of January will be devoted to a new spending plan for the Department of Homeland Security. The spending bill funds DHS only until the end of February, a move designed to give Republicans more time to craft a legislative response to Obama\\u2019s decision to change immigration policy through executive actions. But no specific proposals have emerged, the aides said.\\n\\nThen there are the investigations into alleged wrongdoing at agencies including the Internal Revenue Service, the Justice Department and the Environmental Protection Agency.\\n\\n\\u201cThere are issues that haven\\u2019t been resolved,\\u201d said Rep. Jason Chaffetz (R-Utah), the new chairman of the House Oversight and Government Reform Committee.\\n\\nHe is launching subcommittees to closely track Obama\\u2019s energy and environmental policies and created \\u201cadministrative rules,\\u201d a panel that will \\u201ctry to figure out what the administration is doing next with its rule-making authority. We\\u2019re going to jump on those as fast as we possibly can,\\u201d he said.\\n\\nBefore the work begins, Boehner is expected to face another leadership challenge. After he survived a close call two years ago, conservative blogs and radio shows are actively supporting another effort to unseat him.\\n\\nPresuming that the 434 currently seated House members show up to vote Tuesday and that all Democrats vote against him, at least 28 of the 246 Republicans also would need to vote against Boehner to deny him the gavel. (The 435th House seat is held by Rep. Michael G. Grimm (R-N.Y.), who plans to resign Monday after recently pleading guilty to tax evasion charges.)\\n\\nRep. Walter B. Jones (R-N.C.), who opposed Boehner two years ago, said in a recent radio interview that he\\u2019ll do it again, adding that at least 16 to 18 Republican members might vote against the speaker. Among them is Rep. Jim Bridenstine (R-Okla.), who said Friday that he will vote against the speaker because the spending bill passed last month didn\\u2019t fully strip DHS of its funding.\\n\\nRep. Tom Cole (R-Okla.), a Boehner ally, said in an interview that \\u201cI expect a few scattered \\u2018no\\u2019 votes. But because Boehner has been strengthened by the gains in the election, the speaker election should mostly be an uneventful coronation.\\u201d\\n\\nThe opening weeks of the new Congress are also expected to include the confirmation of Ashton Carter, Obama\\u2019s pick to lead the Pentagon, and Loretta Lynch to be the next attorney general. Concerns with Iran are also expected to be an early focus. The Obama administration persuaded Senate Democrats last year to hold off debating a bipartisan proposal authorizing stronger sanctions against the Iranian regime.\\n\\nBut Sen. Bob Corker (R-Tenn.), the incoming chairman of the Foreign Relations Committee, said, \\u201cMy guess is fairly early on in some form or fashion the Senate\\u2019s going to want to weigh in on Iran.\\u201d\\n\\nCorker also plans to launch \\u201ca rigorous hearing process\\u201d on Obama\\u2019s decision to restore diplomatic relations with Cuba. Republicans have threatened to block funding for a new embassy in Havana and confirmation of a new ambassador to Cuba. But Obama could veto spending bills that include such restrictions, sparking a showdown over whether the GOP is willing to shutter parts of the government over a new Cuba policy.\\n\\nIn 2016, Republicans will be defending at least 24 Senate seats and about a dozen first-term House members from swing districts around the country. Party leaders have a political imperative to govern and avoid short-term fights with Obama.\\n\\n\\u201cWe will see if there is an opportunity for a fourth quarter for President Obama that actually moves the country in the direction we\\u2019d like to go,\\u201d said Sen. Roger Wicker (R-Miss.), who also will be responsible for helping reelect GOP senators in 2016.\\n\\n\\u201cReagan did it a generation ago working with Democrats. Clinton did it almost two decades ago with welfare reform and deficit reduction,\\u201d he said. \\u201cSo it can be done \\u2014 if the president is disposed to move in that direction.\\u201d\",\n          \"Reps. Kevin McCarthy, R-California, Jason Chaffetz, R-Utah, and Daniel Webster, R-Florida, are the three candidates vying for the post, and the winner becomes the favorite to become second in line to succeed the President of the United States.\\n\\nBut Thursday's vote inside the House GOP conference is just the first step. The candidate who gets the Republican party's internal nod still has to be approved by the full House of Representatives on October 29. And that's where things can get tricky.\\n\\nIf the Republican nominee can't garner 218 votes on the House floor, then Boehner will remain the speaker. And the potential for multiple rounds of votes on the House floor could open up the election to other candidates beyond the three that are in the race now. It would also prolong the deeply divisive and public process for House Republicans, who are hoping to chart a new path forward and prove they can make the dysfunctional Capitol work.\\n\\nThe three candidates will make their pitch to GOP colleagues at a \\\"candidate forum\\\" on Thursday morning in a conference room in the basement of the Capitol. Each gets three minutes to make a speech before answering questions from members. At noon, the 247 members of the House Republican conference gather in the ornate Ways and Means Committee room to vote. Under the House GOP conference rules, the three candidates are not allowed to make their own speeches. Instead each can designate one supporter to make a three-minute address nominating them for the post. Then up to two additional supporters can speak for another minute each on the candidate's behalf. To win the GOP nomination, a candidate needs a simple majority of all House Republicans -- or 125 votes. (That number could change if any House Republicans are absent or opts not to vote in the election.) Boehner plans to vote for McCarthy before heading to New York to tape an appearance on \\\"The Tonight Show,\\\" according to a spokesman. The delegate from American Samoa, Amata Radewagen, who doesn't get a vote on the House floor, does get to cast a vote for speaker inside the conference meeting. RELATED: John Boehner to appear on 'The Tonight Show' Three members serve as \\\"tally clerks\\\" and collect the ballots and count how many votes each candidate receives. Once all the ballots are counted, a representative of the conference will announce the results, along with the vote totals. If no candidate gets a majority of the conference on the first vote, a second ballot circulates with the names of the top two vote-getters, and a winner is announced after those ballots are counted. The new speaker can't take the gavel from Boehner until the full House of Representatives votes. Unlike the private contest on Thursday, the floor vote is covered live by C-SPAN's television cameras inside the House chamber. Each member of Congress is called on in alphabetical order to stand and announce their choice for speaker. The winner must win the votes of a majority -- 218, if everyone in the House is present -- in order to win. The vast majority of House Democrats are expected for to vote for former Speaker and current Minority Leader Nancy Pelosi. House Republican conference rules require that GOP members support their party's nominee on the floor, but many conservatives have ignored that rule in recent elections. That's where any drama will occur. If the GOP nominee fails to get a majority, the contest on the House floor could go to multiple ballots. Boehner will remain the speaker until a majority of the House votes to elect a new candidate. The last time it took more than one ballot to elect a speaker was in 1923 when it took nine ballots over the course of three days. And you don't need to be in the House to get the job. The Constitution does not require that the speaker be someone currently serving in Congress, but all who have been elected to the post have been House members. Former Secretary of State Colin Powell, Sen. Rand Paul and Sen. Jeff Sessions received votes in the January 2015 election . And two years earlier, David Walker, the former head of the General Accounting Office, received one vote\",\n          \"Over the last six years, the Obama administration has been trying to address global warming\\u00a0with a flurry of rules aimed at reducing US carbon-dioxide emissions. First there were stricter fuel-economy standards for cars and trucks. More recently, the EPA\\u00a0proposed sweeping carbon regulations for coal-fired power plants (known as the \\\"Clean Power Plan\\\").\\n\\nThe overarching goal was to cut US greenhouse-gas emissions 17 percent below 2005 levels by 2020. That, the administration believed, would help advance global climate talks.\\n\\nBut all of Obama's moves so far\\u00a0have been insufficient to get to that 17 percent cut by 2020. As recent analyses from the Rhodium Group and the Clean Air Task Force\\u00a0have argued, the US also needs to reduce methane emissions dramatically to get there:\\n\\nCarbon-dioxide is the biggest greenhouse gas responsible for global warming. But it's not the only one. There's also\\u00a0methane.\\u00a0The US burns a lot of methane \\u2014 known as \\\"natural gas\\\" \\u2014 for energy. But when methane leaks out of oil and gas wells or pipelines and into the atmosphere, it acts as a potent greenhouse gas. (The White House says it's 25 times as effective at trapping heat as carbon dioxide. Other scientists say 34 times.)\\n\\nIn 2012, the EPA estimated that methane accounted for roughly\\u00a08.7 percent of US greenhouse-gas emissions (though this may be an\\u00a0underestimate). But experts have warned that methane leaks could be poised to grow in the coming years.\\n\\nThanks to the\\u00a0fracking boom, US energy companies have been extracting more and more natural gas from shale formations. On one level, that's good news for climate change: utilities are now burning more natural gas for electricity instead of coal, which means lower carbon-dioxide emissions from power plants.\\n\\nThe problem is that all this new drilling increases the risk of methane leaking into the air \\u2014 and those leaks\\u00a0are undermining the climate benefits of the gas boom.\\n\\nIn theory, it should be doable to plug these methane emissions,\\u00a0which can come from leaky pipelines or faulty drilling operations. Many companies already\\u00a0use infrared cameras to detect leaks and plug them. And they have financial incentives to do so \\u2014 after all, these companies would rather capture that methane and sell it for money than just have it float off into the air.\\n\\nMany oil and gas companies are already taking steps to detect and plug leaks\\n\\nStill, the White House wants to make sure these leaks really get plugged. So, on Wednesday, it\\u00a0announced a goal of cutting methane emissions from oil and gas operations 45 percent below 2012 levels by 2025.\\n\\nThis would be done through a combination of guidelines for voluntary actions by the industry and a hodgepodge of new regulations\\u00a0crafted by the EPA and other agencies. Some rules would focus on methane leaks from new oil and gas wells. Others would focus on pipelines used to transport the natural gas. The Interior Department is updating standards for drilling on public lands.\\n\\nThe White House noted that the oil and gas industry has already managed to cut methane emissions 16 percent since 1990 through voluntary measures. \\\"Nevertheless,\\\" it added, \\\"emissions from the oil and gas sector are projected to rise more than 25 percent by 2025 without additional steps to lower them.\\\"\\n\\nSome environmental groups said the White House's plan didn't go far enough. For example, the EPA is currently only working on rules to reduce emissions at new oil and gas wells \\u2014 and only much later will they work on rules for\\u00a0existing wells, which are by far the biggest source of emissions.\\n\\n\\\"While setting methane standards for the first time is an important step, failing to immediately regulate existing oil and gas equipment nationwide misses 90% of the methane pollution from the industry,\\\" Conrad Schneider of the Clean Air Task Force said in a statement.\\n\\nJayni Hein, policy director at the Institute for Policy Integrity at NYU School of Law, agreed: \\\"EPA's steps announced today would trim the sector's methane releases by about a third. We can and should go farther by regulating existing oil and natural gas sources.\\\"\\n\\nBy contrast, many oil and gas companies don't want new regulations at all \\u2014 they argue that the industry is already curbing methane leaks as is.\\u00a0\\\"Emissions will continue to fall as operators innovate and find new ways to capture and deliver more methane to consumers,\\\" said Jack Gerard, head of the American Petroleum Institute, in a statement. \\\"Existing EPA and state regulations are working. Another layer of burdensome requirements could actually slow down industry progress to reduce methane emissions.\\\"\\n\\nMeanwhile, it's worth noting that there are other sources of methane besides oil and gas. In 2012,\\u00a0according to the EPA, roughly 30 percent of methane in the United States came from natural-gas and petroleum operations (though, again, that may be an undercount).\\n\\nObama is relying on voluntary measures for methane in agriculture\\n\\n-- By contrast,\\u00a036 percent of US.methane emissions came from agriculture. The beef and dairy industry is a major contributor here: when cows belch, they produce methane (known as \\\"enteric fermentation\\\"). Other sources include decomposing cow manure, as well as methane from rice cultivation.\\n\\n-- Another\\u00a018 percent came from landfills. When food and other trash decays in a landfill, the organisms that feed on that trash emit methane into the atmosphere.\\n\\nThe Obama administration\\u00a0has been working on steps to cut methane in these areas, too. Back in March, the EPA announced it would come up with standards to reduce methane from all future landfills. It will then solicit public comments on whether to regulate landfills that have already been built.\\n\\nAs for cow burps, however, the administration is relying on purely voluntary measures for now. In June 2014, the EPA unveiled a \\\"partnership\\\" with the dairy industry to speed up the adoption of methane digesters that turn cow dung into energy. The hope is to reduce methane emissions from the dairy sector 25 percent by 2020.\\n\\nFurther reading: Obama has promised to cut US emissions 17% by 2020. Is that still possible?\"\n        ],\n        \"num_unique_values\": 6060,\n        \"semantic_type\": \"\",\n        \"description\": \"\"\n      }\n    },\n    {\n      \"column\": \"label\",\n      \"properties\": {\n        \"dtype\": \"category\",\n        \"samples\": [\n          \"REAL\",\n          \"FAKE\"\n        ],\n        \"num_unique_values\": 2,\n        \"semantic_type\": \"\",\n        \"description\": \"\"\n      }\n    }\n  ]\n}"
            }
          },
          "metadata": {},
          "execution_count": 50
        }
      ],
      "source": [
        "news_data= pd.read_csv(\"/content/news.csv\")\n",
        "news_data.head(10)\n"
      ]
    },
    {
      "cell_type": "code",
      "execution_count": null,
      "metadata": {
        "colab": {
          "base_uri": "https://localhost:8080/"
        },
        "id": "LRGwdnXqMhJt",
        "outputId": "52fa47de-ff32-4a1a-c0f0-e80040611b97"
      },
      "outputs": [
        {
          "output_type": "stream",
          "name": "stdout",
          "text": [
            "<class 'pandas.core.frame.DataFrame'>\n",
            "RangeIndex: 6335 entries, 0 to 6334\n",
            "Data columns (total 4 columns):\n",
            " #   Column      Non-Null Count  Dtype \n",
            "---  ------      --------------  ----- \n",
            " 0   Unnamed: 0  6335 non-null   int64 \n",
            " 1   title       6335 non-null   object\n",
            " 2   text        6335 non-null   object\n",
            " 3   label       6335 non-null   object\n",
            "dtypes: int64(1), object(3)\n",
            "memory usage: 198.1+ KB\n"
          ]
        }
      ],
      "source": [
        "news_data.info()"
      ]
    },
    {
      "cell_type": "code",
      "execution_count": null,
      "metadata": {
        "colab": {
          "base_uri": "https://localhost:8080/"
        },
        "id": "3uDglmOXMscl",
        "outputId": "f1ca3c4d-559e-443e-b0de-3841c2c57fac"
      },
      "outputs": [
        {
          "output_type": "execute_result",
          "data": {
            "text/plain": [
              "(6335, 4)"
            ]
          },
          "metadata": {},
          "execution_count": 4
        }
      ],
      "source": [
        "news_data.shape"
      ]
    },
    {
      "cell_type": "code",
      "execution_count": null,
      "metadata": {
        "colab": {
          "base_uri": "https://localhost:8080/"
        },
        "id": "sZhw-bIDM8g0",
        "outputId": "ce35281b-6777-4d4c-a1b3-02c7f18c9c53"
      },
      "outputs": [
        {
          "output_type": "execute_result",
          "data": {
            "text/plain": [
              "REAL    3171\n",
              "FAKE    3164\n",
              "Name: label, dtype: int64"
            ]
          },
          "metadata": {},
          "execution_count": 5
        }
      ],
      "source": [
        "news_data[\"label\"].value_counts()"
      ]
    },
    {
      "cell_type": "code",
      "execution_count": null,
      "metadata": {
        "colab": {
          "base_uri": "https://localhost:8080/"
        },
        "id": "7jy866HqNDV3",
        "outputId": "e26bea57-e9ae-4ec6-98bd-44cb4cc87be1"
      },
      "outputs": [
        {
          "output_type": "execute_result",
          "data": {
            "text/plain": [
              "0    FAKE\n",
              "1    FAKE\n",
              "2    REAL\n",
              "3    FAKE\n",
              "4    REAL\n",
              "Name: label, dtype: object"
            ]
          },
          "metadata": {},
          "execution_count": 6
        }
      ],
      "source": [
        "labels= news_data.label\n",
        "labels.head(5)"
      ]
    },
    {
      "cell_type": "markdown",
      "metadata": {
        "id": "MWIsC_hKNPUK"
      },
      "source": [
        "**1st model**\n"
      ]
    },
    {
      "cell_type": "markdown",
      "metadata": {
        "id": "hLwKwB8xerRd"
      },
      "source": [
        "3- Build the model"
      ]
    },
    {
      "cell_type": "code",
      "execution_count": null,
      "metadata": {
        "id": "4uq9tt2csr7z"
      },
      "outputs": [],
      "source": [
        "#First, we split the dataset into train & test samples:\n",
        "x_train, x_test, y_train, y_test= train_test_split(news_data[\"text\"], labels, test_size= 0.4, random_state= 7)"
      ]
    },
    {
      "cell_type": "code",
      "execution_count": null,
      "metadata": {
        "id": "FHkOnTgjsvyi"
      },
      "outputs": [],
      "source": [
        "#Then we’ll initialize TfidfVectorizer with English stop words\n",
        "vectorizer=TfidfVectorizer(stop_words='english', max_df=0.7)\n",
        "tfidf_train=vectorizer.fit_transform(x_train)\n",
        "tfidf_test=vectorizer.transform(x_test)"
      ]
    },
    {
      "cell_type": "code",
      "execution_count": null,
      "metadata": {
        "id": "i9HFd0Thsx5-"
      },
      "outputs": [],
      "source": [
        "#Create a PassiveAggressiveClassifier\n",
        "passive=PassiveAggressiveClassifier(max_iter=50)\n",
        "passive.fit(tfidf_train,y_train)\n",
        "\n",
        "y_pred=passive.predict(tfidf_test)"
      ]
    },
    {
      "cell_type": "markdown",
      "metadata": {
        "id": "c6ZOcCJoueIP"
      },
      "source": [
        "**4- Evaluate the model's accuracy**"
      ]
    },
    {
      "cell_type": "code",
      "execution_count": null,
      "metadata": {
        "colab": {
          "base_uri": "https://localhost:8080/"
        },
        "id": "3EFe3xgls0zD",
        "outputId": "9429117f-64ae-42d1-ca1c-1391198459fa"
      },
      "outputs": [
        {
          "output_type": "execute_result",
          "data": {
            "text/plain": [
              "array([[1187,   83],\n",
              "       [  85, 1179]])"
            ]
          },
          "metadata": {},
          "execution_count": 11
        }
      ],
      "source": [
        "#Create a confusion matrix\n",
        "matrix= confusion_matrix(y_test,y_pred, labels=['FAKE','REAL'])\n",
        "matrix"
      ]
    },
    {
      "cell_type": "code",
      "execution_count": null,
      "metadata": {
        "colab": {
          "base_uri": "https://localhost:8080/",
          "height": 430
        },
        "id": "aoeMRew5s5Ki",
        "outputId": "103bc7ad-fe2c-4d10-d8a3-45ed4cac1381"
      },
      "outputs": [
        {
          "output_type": "display_data",
          "data": {
            "text/plain": [
              "<Figure size 640x480 with 2 Axes>"
            ],
            "image/png": "[encoded data removed]"
          },
          "metadata": {}
        }
      ],
      "source": [
        "#Visualize the confusion matrix\n",
        "\n",
        "sns.heatmap(matrix, annot=True, cmap='magma')  # 'magma' is just an example, you can choose any other colormap\n",
        "plt.show()"
      ]
    },
    {
      "cell_type": "code",
      "execution_count": null,
      "metadata": {
        "colab": {
          "base_uri": "https://localhost:8080/"
        },
        "id": "TtP5Kgxls7wp",
        "outputId": "71a18098-fa1d-473e-a2b6-e7a77cdcebb3"
      },
      "outputs": [
        {
          "output_type": "execute_result",
          "data": {
            "text/plain": [
              "93.37016574585635"
            ]
          },
          "metadata": {},
          "execution_count": 13
        }
      ],
      "source": [
        "#Calculate the model's accuracy\n",
        "Accuracy=accuracy_score(y_test,y_pred)\n",
        "Accuracy*100"
      ]
    },
    {
      "cell_type": "code",
      "execution_count": null,
      "metadata": {
        "colab": {
          "base_uri": "https://localhost:8080/"
        },
        "id": "iRnsqPQttG_S",
        "outputId": "3eb3a872-0521-405e-c6b7-7b36a917e0df"
      },
      "outputs": [
        {
          "output_type": "stream",
          "name": "stdout",
          "text": [
            "              precision    recall  f1-score   support\n",
            "\n",
            "        FAKE       0.93      0.93      0.93      1270\n",
            "        REAL       0.93      0.93      0.93      1264\n",
            "\n",
            "    accuracy                           0.93      2534\n",
            "   macro avg       0.93      0.93      0.93      2534\n",
            "weighted avg       0.93      0.93      0.93      2534\n",
            "\n"
          ]
        }
      ],
      "source": [
        "#The model's accuracy is 93.21%\n",
        "Report= classification_report(y_test, y_pred)\n",
        "print(Report)"
      ]
    },
    {
      "cell_type": "code",
      "execution_count": null,
      "metadata": {
        "colab": {
          "base_uri": "https://localhost:8080/"
        },
        "id": "YtgV_LfQtZzw",
        "outputId": "60972e18-3d43-4e53-d30a-105e21d1d89c"
      },
      "outputs": [
        {
          "output_type": "stream",
          "name": "stdout",
          "text": [
            "['REAL']\n"
          ]
        }
      ],
      "source": [
        "#Now let’s test this model.\n",
        "#To test our trained model, I’ll first write down the title of any news item found on google news to see if our\n",
        "#model predicts that the news is real or not:\n",
        "news_headline_1 = \"Trump takes on Cruz, but lightly\"\n",
        "\n",
        "data = vectorizer.transform([news_headline_1]).toarray()\n",
        "print(passive.predict(data))"
      ]
    },
    {
      "cell_type": "code",
      "execution_count": null,
      "metadata": {
        "colab": {
          "base_uri": "https://localhost:8080/"
        },
        "id": "WuPqfelKtfQi",
        "outputId": "8ec89fd1-6caf-4c65-8f29-6e7a890092f0"
      },
      "outputs": [
        {
          "output_type": "stream",
          "name": "stdout",
          "text": [
            "['FAKE']\n"
          ]
        }
      ],
      "source": [
        "news_headline_2 = \"Cow dung can cure Corona Virus\"\n",
        "data = vectorizer.transform([news_headline_2]).toarray()\n",
        "print(passive.predict(data))"
      ]
    },
    {
      "cell_type": "code",
      "execution_count": null,
      "metadata": {
        "colab": {
          "base_uri": "https://localhost:8080/"
        },
        "id": "rjCNCleptgyT",
        "outputId": "10bdfa7b-8a79-4aec-d4a4-40040320a0cf"
      },
      "outputs": [
        {
          "output_type": "stream",
          "name": "stdout",
          "text": [
            "['REAL']\n"
          ]
        }
      ],
      "source": [
        "news_headline_3 = \"Doubt Congress will get ‘even 40 seats’ in LS polls, says Mamata\"\n",
        "data = vectorizer.transform([news_headline_3]).toarray()\n",
        "print(passive.predict(data))"
      ]
    },
    {
      "cell_type": "markdown",
      "metadata": {
        "id": "UO7IX7CousDN"
      },
      "source": [
        "**2nd Model to Increase Accuracy**\n"
      ]
    },
    {
      "cell_type": "markdown",
      "metadata": {
        "id": "AeO3mEySu1Hj"
      },
      "source": [
        "3- Build the model\n"
      ]
    },
    {
      "cell_type": "code",
      "execution_count": null,
      "metadata": {
        "id": "Th_pQUJRNXQ1"
      },
      "outputs": [],
      "source": [
        "#First, we split the dataset into train & test samples:\n",
        "x_train, x_test, y_train, y_test= train_test_split(news_data[\"text\"], labels, test_size= 0.2, random_state= 7)"
      ]
    },
    {
      "cell_type": "code",
      "execution_count": null,
      "metadata": {
        "id": "mRYS0pfAeyvX"
      },
      "outputs": [],
      "source": [
        "#Then we’ll initialize TfidfVectorizer with English stop words\n",
        "vectorizer=TfidfVectorizer(stop_words='english', max_df=0.9)\n",
        "## fit and transform train set, transform test set\n",
        "tfidf_train=vectorizer.fit_transform(x_train)\n",
        "tfidf_test=vectorizer.transform(x_test)\n"
      ]
    },
    {
      "cell_type": "code",
      "execution_count": null,
      "metadata": {
        "id": "MT3oKxc1fElE"
      },
      "outputs": [],
      "source": [
        "#Create a PassiveAggressiveClassifier\n",
        "passive=PassiveAggressiveClassifier(max_iter=50)\n",
        "passive.fit(tfidf_train,y_train)\n",
        "\n",
        "y_pred=passive.predict(tfidf_test)"
      ]
    },
    {
      "cell_type": "markdown",
      "metadata": {
        "id": "LLq0edz8l5Fs"
      },
      "source": [
        "\n",
        "4.   Evaluate the model's accuracy\n",
        "\n"
      ]
    },
    {
      "cell_type": "code",
      "execution_count": null,
      "metadata": {
        "colab": {
          "base_uri": "https://localhost:8080/"
        },
        "id": "sqfhhhXbfMsZ",
        "outputId": "e1e3f478-5373-43d1-8856-3bb79db764df"
      },
      "outputs": [
        {
          "output_type": "execute_result",
          "data": {
            "text/plain": [
              "array([[589,  49],\n",
              "       [ 43, 586]])"
            ]
          },
          "metadata": {},
          "execution_count": 21
        }
      ],
      "source": [
        "#Create a confusion matrix\n",
        "matrix= confusion_matrix(y_test,y_pred, labels=['FAKE','REAL'])\n",
        "matrix\n"
      ]
    },
    {
      "cell_type": "code",
      "execution_count": null,
      "metadata": {
        "colab": {
          "base_uri": "https://localhost:8080/",
          "height": 430
        },
        "id": "88IxupHxfgDZ",
        "outputId": "00e4b96e-54d4-4609-e785-215c5f4d4c7a"
      },
      "outputs": [
        {
          "output_type": "display_data",
          "data": {
            "text/plain": [
              "<Figure size 640x480 with 2 Axes>"
            ],
            "image/png": "[encoded data removed]"
          },
          "metadata": {}
        }
      ],
      "source": [
        "#Visualize the confusion matrix\n",
        "sns.heatmap(matrix, annot=True, cmap='viridis')  # 'viridis' is just an example, you can choose any other colormap\n",
        "plt.show()\n",
        "\n"
      ]
    },
    {
      "cell_type": "code",
      "execution_count": null,
      "metadata": {
        "colab": {
          "base_uri": "https://localhost:8080/"
        },
        "id": "CUNpriCofne-",
        "outputId": "ef8e9f35-df0b-4473-dcce-6d22e0521673"
      },
      "outputs": [
        {
          "output_type": "execute_result",
          "data": {
            "text/plain": [
              "92.73875295974744"
            ]
          },
          "metadata": {},
          "execution_count": 23
        }
      ],
      "source": [
        "#Calculate the model's accuracy\n",
        "Accuracy=accuracy_score(y_test,y_pred)\n",
        "Accuracy*100"
      ]
    },
    {
      "cell_type": "code",
      "execution_count": null,
      "metadata": {
        "colab": {
          "base_uri": "https://localhost:8080/"
        },
        "id": "4RWOt1Avfy4-",
        "outputId": "dba2b72b-c29e-4e87-f480-ff980e0fc23b"
      },
      "outputs": [
        {
          "output_type": "stream",
          "name": "stdout",
          "text": [
            "              precision    recall  f1-score   support\n",
            "\n",
            "        FAKE       0.93      0.92      0.93       638\n",
            "        REAL       0.92      0.93      0.93       629\n",
            "\n",
            "    accuracy                           0.93      1267\n",
            "   macro avg       0.93      0.93      0.93      1267\n",
            "weighted avg       0.93      0.93      0.93      1267\n",
            "\n"
          ]
        }
      ],
      "source": [
        "#The model's accuracy is 93.21%\n",
        "Report= classification_report(y_test, y_pred)\n",
        "print(Report)\n"
      ]
    },
    {
      "cell_type": "code",
      "execution_count": null,
      "metadata": {
        "colab": {
          "base_uri": "https://localhost:8080/"
        },
        "id": "iVY7aOD3f5I5",
        "outputId": "485a0fee-1eef-4401-a76e-6c2c4ea34044"
      },
      "outputs": [
        {
          "output_type": "stream",
          "name": "stdout",
          "text": [
            "['REAL']\n"
          ]
        }
      ],
      "source": [
        "#Now let’s test this model.\n",
        "#To test our trained model, I’ll first write down the title of any news item found on google news to see if our\n",
        "#model predicts that the news is real or not:news_headline_1 = \"Trump takes on Cruz, but lightly\"\n",
        "news_headline_1 = \"Trump takes on Cruz, but lightly\"\n",
        "data = vectorizer.transform([news_headline_1]).toarray()\n",
        "print(passive.predict(data))"
      ]
    },
    {
      "cell_type": "code",
      "execution_count": null,
      "metadata": {
        "colab": {
          "base_uri": "https://localhost:8080/"
        },
        "id": "q2DB5EN3gDr3",
        "outputId": "e87a1698-470c-426f-b160-3d5469c20b8d"
      },
      "outputs": [
        {
          "output_type": "stream",
          "name": "stdout",
          "text": [
            "['FAKE']\n"
          ]
        }
      ],
      "source": [
        "#Now I’m going to write a random fake news headline to see if the model predicts the news is fake or not:\n",
        "news_headline_2 = \"Cow dung can cure Corona Virus\"\n",
        "data = vectorizer.transform([news_headline_2]).toarray()\n",
        "print(passive.predict(data))"
      ]
    },
    {
      "cell_type": "code",
      "execution_count": null,
      "metadata": {
        "colab": {
          "base_uri": "https://localhost:8080/"
        },
        "id": "lx8WnqdUgFsj",
        "outputId": "4bb1ecd7-f951-4d3e-97dd-6af7c1070446"
      },
      "outputs": [
        {
          "output_type": "stream",
          "name": "stdout",
          "text": [
            "['REAL']\n"
          ]
        }
      ],
      "source": [
        "news_headline_3 = \"Doubt Congress will get ‘even 40 seats’ in LS polls, says Mamata\"\n",
        "data = vectorizer.transform([news_headline_3]).toarray()\n",
        "print(passive.predict(data))\n"
      ]
    },
    {
      "cell_type": "markdown",
      "metadata": {
        "id": "aCZ0lDnYvMDK"
      },
      "source": [
        "**3rd Model to further increase accuracy**"
      ]
    },
    {
      "cell_type": "markdown",
      "metadata": {
        "id": "gtl4EqgUlJxt"
      },
      "source": [
        "\n",
        "3.  Build the model\n",
        "\n",
        "\n"
      ]
    },
    {
      "cell_type": "code",
      "execution_count": null,
      "metadata": {
        "id": "3mNJSgNTgNY0"
      },
      "outputs": [],
      "source": [
        "#First, we split the dataset into train & test samples:\n",
        "x_train,x_test,y_train,y_test=train_test_split(news_data['text'], labels, test_size=0.3, random_state=6)\n"
      ]
    },
    {
      "cell_type": "code",
      "execution_count": null,
      "metadata": {
        "id": "uraoPbj5gSFe"
      },
      "outputs": [],
      "source": [
        "vectorizer=TfidfVectorizer(stop_words='english', max_df=0.9)\n",
        "## fit and transform train set, transform test set\n",
        "tfidf_train=vectorizer.fit_transform(x_train)\n",
        "tfidf_test=vectorizer.transform(x_test)\n"
      ]
    },
    {
      "cell_type": "code",
      "execution_count": null,
      "metadata": {
        "id": "xeLTicXtgZFO"
      },
      "outputs": [],
      "source": [
        "#Create a PassiveAggressiveClassifier\n",
        "passive=PassiveAggressiveClassifier(max_iter=50)\n",
        "passive.fit(tfidf_train,y_train)\n",
        "\n",
        "y_pred=passive.predict(tfidf_test)"
      ]
    },
    {
      "cell_type": "markdown",
      "metadata": {
        "id": "E_zZYZw-k8Cs"
      },
      "source": [
        "**4- Evaluate the model's accuracy**"
      ]
    },
    {
      "cell_type": "code",
      "execution_count": null,
      "metadata": {
        "colab": {
          "base_uri": "https://localhost:8080/"
        },
        "id": "1les7aeVgdk9",
        "outputId": "14f2b14f-01d4-4d1c-dc01-0f9f6a96b433"
      },
      "outputs": [
        {
          "output_type": "execute_result",
          "data": {
            "text/plain": [
              "array([[882,  59],\n",
              "       [ 60, 900]])"
            ]
          },
          "metadata": {},
          "execution_count": 31
        }
      ],
      "source": [
        "#Create a confusion matrix\n",
        "matrix= confusion_matrix(y_test,y_pred, labels=['FAKE','REAL'])\n",
        "matrix"
      ]
    },
    {
      "cell_type": "code",
      "execution_count": null,
      "metadata": {
        "colab": {
          "base_uri": "https://localhost:8080/",
          "height": 435
        },
        "id": "0HZb5NCJghn6",
        "outputId": "92893478-b8a8-4135-f8f1-d99425e64235"
      },
      "outputs": [
        {
          "output_type": "display_data",
          "data": {
            "text/plain": [
              "<Figure size 640x480 with 2 Axes>"
            ],
            "image/png": "[encoded data removed]"
          },
          "metadata": {}
        }
      ],
      "source": [
        "#Visualize the confusion matrix\n",
        "sns.heatmap(matrix, annot=True, cmap='viridis')  # 'viridis' is just an example, you can choose any other colormap\n",
        "plt.show()"
      ]
    },
    {
      "cell_type": "code",
      "execution_count": null,
      "metadata": {
        "colab": {
          "base_uri": "https://localhost:8080/"
        },
        "id": "ijcWQ1YwgwX4",
        "outputId": "f7da7317-774a-44fe-c78c-ad12f6dbb1c1"
      },
      "outputs": [
        {
          "output_type": "execute_result",
          "data": {
            "text/plain": [
              "93.74013677012098"
            ]
          },
          "metadata": {},
          "execution_count": 33
        }
      ],
      "source": [
        "\n",
        "Accuracy=accuracy_score(y_test,y_pred)\n",
        "Accuracy*100\n"
      ]
    },
    {
      "cell_type": "code",
      "execution_count": null,
      "metadata": {
        "id": "bxnRJb944CJN"
      },
      "outputs": [],
      "source": []
    },
    {
      "cell_type": "code",
      "execution_count": null,
      "metadata": {
        "colab": {
          "base_uri": "https://localhost:8080/"
        },
        "id": "qOXVuWuYhH-M",
        "outputId": "3f2f353e-e2e8-4b0c-c877-7fd2bfe9e96f"
      },
      "outputs": [
        {
          "output_type": "stream",
          "name": "stdout",
          "text": [
            "              precision    recall  f1-score   support\n",
            "\n",
            "        FAKE       0.94      0.94      0.94       941\n",
            "        REAL       0.94      0.94      0.94       960\n",
            "\n",
            "    accuracy                           0.94      1901\n",
            "   macro avg       0.94      0.94      0.94      1901\n",
            "weighted avg       0.94      0.94      0.94      1901\n",
            "\n"
          ]
        }
      ],
      "source": [
        "\n",
        "Report= classification_report(y_test, y_pred)\n",
        "print(Report)\n"
      ]
    },
    {
      "cell_type": "code",
      "execution_count": null,
      "metadata": {
        "colab": {
          "base_uri": "https://localhost:8080/"
        },
        "id": "S1orqx2ThOUf",
        "outputId": "f7f3d553-69cf-4528-ff2b-6ad882e644df"
      },
      "outputs": [
        {
          "output_type": "stream",
          "name": "stdout",
          "text": [
            "['REAL']\n"
          ]
        }
      ],
      "source": [
        "#Now let’s test this model.\n",
        "#To test our trained model, I’ll first write down the title of any news item found on google news to see if our\n",
        "#model predicts that the news is real or not:\n",
        "news_headline_1 = \"Trump takes on Cruz, but lightly\"\n",
        "\n",
        "data = vectorizer.transform([news_headline_1]).toarray()\n",
        "print(passive.predict(data))\n"
      ]
    },
    {
      "cell_type": "code",
      "execution_count": null,
      "metadata": {
        "colab": {
          "base_uri": "https://localhost:8080/"
        },
        "id": "l9UIz37JhsX7",
        "outputId": "360e404c-04d9-493b-b046-bc64ce23e721"
      },
      "outputs": [
        {
          "output_type": "stream",
          "name": "stdout",
          "text": [
            "['FAKE']\n"
          ]
        }
      ],
      "source": [
        "#Now I’m going to write a random fake news headline to see if the model predicts the news is fake or not:\n",
        "news_headline_2 = \"Cow dung can cure Corona Virus\"\n",
        "data = vectorizer.transform([news_headline_2]).toarray()\n",
        "print(passive.predict(data))"
      ]
    },
    {
      "cell_type": "code",
      "execution_count": null,
      "metadata": {
        "colab": {
          "base_uri": "https://localhost:8080/"
        },
        "id": "-p-kpapziAEh",
        "outputId": "2c6be431-b79a-4cf5-dc09-c3c1be137cb7"
      },
      "outputs": [
        {
          "output_type": "stream",
          "name": "stdout",
          "text": [
            "['REAL']\n"
          ]
        }
      ],
      "source": [
        "news_headline_3 = \"Doubt Congress will get ‘even 40 seats’ in LS polls, says Mamata\"\n",
        "data = vectorizer.transform([news_headline_3]).toarray()\n",
        "print(passive.predict(data))"
      ]
    },
    {
      "cell_type": "markdown",
      "metadata": {
        "id": "4RhHGBtyvY6a"
      },
      "source": [
        "**4nd Model to Increase Accuracy**"
      ]
    },
    {
      "cell_type": "markdown",
      "metadata": {
        "id": "bnjSTsB2kPVY"
      },
      "source": [
        "**3- Build the model**"
      ]
    },
    {
      "cell_type": "code",
      "execution_count": null,
      "metadata": {
        "id": "icDXB9Nxif2U"
      },
      "outputs": [],
      "source": [
        "#First, we split the dataset into train & test samples:\n",
        "x_train,x_test,y_train,y_test=train_test_split(news_data['text'], labels, test_size=0.2, random_state=10)"
      ]
    },
    {
      "cell_type": "code",
      "execution_count": null,
      "metadata": {
        "id": "XAApcnQoilN7"
      },
      "outputs": [],
      "source": [
        "vectorizer=TfidfVectorizer(stop_words='english', max_df=0.9)\n",
        "## fit and transform train set, transform test set\n",
        "tfidf_train=vectorizer.fit_transform(x_train)\n",
        "tfidf_test=vectorizer.transform(x_test)"
      ]
    },
    {
      "cell_type": "code",
      "execution_count": null,
      "metadata": {
        "id": "9pS7EAgfi0jG"
      },
      "outputs": [],
      "source": [
        "#Create a PassiveAggressiveClassifier\n",
        "passive=PassiveAggressiveClassifier(max_iter=50)\n",
        "passive.fit(tfidf_train,y_train)\n",
        "\n",
        "y_pred=passive.predict(tfidf_test)\n",
        "\n"
      ]
    },
    {
      "cell_type": "markdown",
      "metadata": {
        "id": "8BtZX5Htj9Ok"
      },
      "source": [
        "**4- Evaluate the model's accuracy**"
      ]
    },
    {
      "cell_type": "code",
      "execution_count": null,
      "metadata": {
        "colab": {
          "base_uri": "https://localhost:8080/"
        },
        "id": "oqxyYN2Qi816",
        "outputId": "072a3ca4-b145-44a2-ca65-ff7964048d1d"
      },
      "outputs": [
        {
          "output_type": "execute_result",
          "data": {
            "text/plain": [
              "array([[572,  31],\n",
              "       [ 41, 623]])"
            ]
          },
          "metadata": {},
          "execution_count": 41
        }
      ],
      "source": [
        "#Create a confusion matrix\n",
        "matrix= confusion_matrix(y_test,y_pred, labels=['FAKE','REAL'])\n",
        "matrix"
      ]
    },
    {
      "cell_type": "code",
      "execution_count": null,
      "metadata": {
        "colab": {
          "base_uri": "https://localhost:8080/",
          "height": 430
        },
        "id": "DoEWzdNvi_l_",
        "outputId": "8392ca6d-f909-42d2-a744-6d236df2732b"
      },
      "outputs": [
        {
          "output_type": "display_data",
          "data": {
            "text/plain": [
              "<Figure size 640x480 with 2 Axes>"
            ],
            "image/png": "[encoded data removed]"
          },
          "metadata": {}
        }
      ],
      "source": [
        "#Visualize the confusion matrix\n",
        "sns.heatmap(matrix, annot=True, cmap='viridis')  # 'viridis' is just an example, you can choose any other colormap\n",
        "plt.show()"
      ]
    },
    {
      "cell_type": "code",
      "execution_count": null,
      "metadata": {
        "colab": {
          "base_uri": "https://localhost:8080/"
        },
        "id": "1w5nm6FsjCxg",
        "outputId": "9f107aa0-2b9b-4571-da3a-bd4164fb2082"
      },
      "outputs": [
        {
          "output_type": "execute_result",
          "data": {
            "text/plain": [
              "94.31728492501973"
            ]
          },
          "metadata": {},
          "execution_count": 43
        }
      ],
      "source": [
        "#Calculate the model's accuracy\n",
        "Accuracy=accuracy_score(y_test,y_pred)\n",
        "Accuracy*100\n"
      ]
    },
    {
      "cell_type": "code",
      "execution_count": null,
      "metadata": {
        "colab": {
          "base_uri": "https://localhost:8080/"
        },
        "id": "U09xZY0bjJD7",
        "outputId": "daa5082d-4797-4b70-e2b7-3a39fa9f3848"
      },
      "outputs": [
        {
          "output_type": "stream",
          "name": "stdout",
          "text": [
            "              precision    recall  f1-score   support\n",
            "\n",
            "        FAKE       0.93      0.95      0.94       603\n",
            "        REAL       0.95      0.94      0.95       664\n",
            "\n",
            "    accuracy                           0.94      1267\n",
            "   macro avg       0.94      0.94      0.94      1267\n",
            "weighted avg       0.94      0.94      0.94      1267\n",
            "\n"
          ]
        }
      ],
      "source": [
        "#the model's accuracy is 94.55%\n",
        "Report= classification_report(y_test, y_pred)\n",
        "print(Report)"
      ]
    },
    {
      "cell_type": "code",
      "execution_count": null,
      "metadata": {
        "colab": {
          "base_uri": "https://localhost:8080/"
        },
        "id": "rZzKEaTJjMMY",
        "outputId": "23f59ba7-6b9a-49e5-91cb-54513ecf6e55"
      },
      "outputs": [
        {
          "output_type": "stream",
          "name": "stdout",
          "text": [
            "['REAL']\n"
          ]
        }
      ],
      "source": [
        "#Now let’s test this model.\n",
        "#To test our trained model, I’ll first write down the title of any news item found on google news to see if our\n",
        "#model predicts that the news is real or not:\n",
        "news_headline_1 = \"Trump takes on Cruz, but lightly\"\n",
        "\n",
        "data = vectorizer.transform([news_headline_1]).toarray()\n",
        "print(passive.predict(data))"
      ]
    },
    {
      "cell_type": "code",
      "execution_count": null,
      "metadata": {
        "colab": {
          "base_uri": "https://localhost:8080/"
        },
        "id": "JsoVM7IhjPkC",
        "outputId": "29622c84-ea85-4f33-d72b-94f9ce27036f"
      },
      "outputs": [
        {
          "output_type": "stream",
          "name": "stdout",
          "text": [
            "['FAKE']\n"
          ]
        }
      ],
      "source": [
        "#Now I’m going to write a random fake news headline to see if the model predicts the news is fake or not:\n",
        "news_headline_2 = \"Cow dung can cure Corona Virus\"\n",
        "data = vectorizer.transform([news_headline_2]).toarray()\n",
        "print(passive.predict(data))\n"
      ]
    },
    {
      "cell_type": "code",
      "execution_count": null,
      "metadata": {
        "colab": {
          "base_uri": "https://localhost:8080/"
        },
        "id": "NLCmdzMbjVfA",
        "outputId": "3cc74728-d1c7-4bad-cb39-f5ea16dcd25a"
      },
      "outputs": [
        {
          "output_type": "stream",
          "name": "stdout",
          "text": [
            "['REAL']\n"
          ]
        }
      ],
      "source": [
        "news_headline_3 = \"Doubt Congress will get ‘even 40 seats’ in LS polls, says Mamata\"\n",
        "data = vectorizer.transform([news_headline_3]).toarray()\n",
        "print(passive.predict(data))"
      ]
    }
  ],
  "metadata": {
    "colab": {
      "provenance": [],
      "include_colab_link": true
    },
    "kernelspec": {
      "display_name": "Python 3",
      "name": "python3"
    },
    "language_info": {
      "name": "python"
    }
  },
  "nbformat": 4,
  "nbformat_minor": 0
}